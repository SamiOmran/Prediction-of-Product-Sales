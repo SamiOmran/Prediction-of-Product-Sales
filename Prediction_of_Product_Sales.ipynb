{
  "nbformat": 4,
  "nbformat_minor": 0,
  "metadata": {
    "colab": {
      "provenance": [],
      "authorship_tag": "ABX9TyNRY3Sz/yMoqgk5Ypt/zOWg",
      "include_colab_link": true
    },
    "kernelspec": {
      "name": "python3",
      "display_name": "Python 3"
    },
    "language_info": {
      "name": "python"
    }
  },
  "cells": [
    {
      "cell_type": "markdown",
      "metadata": {
        "id": "view-in-github",
        "colab_type": "text"
      },
      "source": [
        "<a href=\"https://colab.research.google.com/github/SamiOmran/Prediction-of-Product-Sales/blob/master/Prediction_of_Product_Sales.ipynb\" target=\"_parent\"><img src=\"https://colab.research.google.com/assets/colab-badge.svg\" alt=\"Open In Colab\"/></a>"
      ]
    },
    {
      "cell_type": "markdown",
      "source": [
        "# **Sami Imran**"
      ],
      "metadata": {
        "id": "WWW8OZtIESks"
      }
    },
    {
      "cell_type": "markdown",
      "source": [
        "# **Prediction of Product Sales**"
      ],
      "metadata": {
        "id": "8o_UpNqOEltO"
      }
    },
    {
      "cell_type": "markdown",
      "source": [
        "**Author:** Sami Imran"
      ],
      "metadata": {
        "id": "SBHDYtpREvF1"
      }
    },
    {
      "cell_type": "markdown",
      "source": [
        "## Project Overview"
      ],
      "metadata": {
        "id": "TRsFoo2mE-wS"
      }
    },
    {
      "cell_type": "markdown",
      "source": [],
      "metadata": {
        "id": "tKrDCc1pGQUM"
      }
    },
    {
      "cell_type": "markdown",
      "source": [
        "## Load and Inspect Data"
      ],
      "metadata": {
        "id": "_T0AWnZsFDYU"
      }
    },
    {
      "cell_type": "code",
      "source": [],
      "metadata": {
        "id": "ShTqy4DbGFaJ"
      },
      "execution_count": null,
      "outputs": []
    },
    {
      "cell_type": "markdown",
      "source": [
        "## Clean Data"
      ],
      "metadata": {
        "id": "QCUa6BeKFHEa"
      }
    },
    {
      "cell_type": "code",
      "source": [],
      "metadata": {
        "id": "zaJL15QzGEex"
      },
      "execution_count": null,
      "outputs": []
    },
    {
      "cell_type": "markdown",
      "source": [
        "## Exploratory Data Analysis"
      ],
      "metadata": {
        "id": "wYCfypEjFJYm"
      }
    },
    {
      "cell_type": "code",
      "source": [],
      "metadata": {
        "id": "1CCMm327GDjA"
      },
      "execution_count": null,
      "outputs": []
    },
    {
      "cell_type": "markdown",
      "source": [
        "## Feature Inspection"
      ],
      "metadata": {
        "id": "calu7_iqFRMD"
      }
    },
    {
      "cell_type": "code",
      "source": [],
      "metadata": {
        "id": "lBu_T5dWGCdO"
      },
      "execution_count": null,
      "outputs": []
    }
  ]
}